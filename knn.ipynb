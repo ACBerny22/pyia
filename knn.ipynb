{
 "cells": [
  {
   "cell_type": "code",
   "execution_count": null,
   "metadata": {},
   "outputs": [
    {
     "ename": "",
     "evalue": "",
     "output_type": "error",
     "traceback": [
      "\u001b[1;31mRunning cells with 'c:\\Python311\\python.exe' requires the ipykernel package.\n",
      "\u001b[1;31mRun the following command to install 'ipykernel' into the Python environment. \n",
      "\u001b[1;31mCommand: 'c:/Python311/python.exe -m pip install ipykernel -U --user --force-reinstall'"
     ]
    }
   ],
   "source": [
    "import pandas as pd\n",
    "import math\n",
    "import collections\n",
    "import matplotlib.pyplot as plt"
   ]
  },
  {
   "cell_type": "code",
   "execution_count": 83,
   "metadata": {},
   "outputs": [
    {
     "name": "stdout",
     "output_type": "stream",
     "text": [
      "[[2, 3, 'azul'], [4, 4, 'rojo'], [2, 5, 'azul'], [4, 5, 'rojo'], [3, 4, 'azul']]\n"
     ]
    }
   ],
   "source": [
    "# Se crea un dataframe con el csv\n",
    "df = pd.read_csv('coordenadas.csv', delimiter=',')\n",
    "\n",
    "#Se crea una lista de listas\n",
    "c = [list(row) for row in df.values]\n",
    "print(c)"
   ]
  },
  {
   "cell_type": "code",
   "execution_count": 84,
   "metadata": {},
   "outputs": [],
   "source": [
    "#DISTANCIA EUCLIDIANA\n",
    "\n",
    "def euclidiana(a,b):                    #listas de coordenadas como parámetros de entrada, a es el punto ya clasificado y b por clasificar\n",
    "    sum=0\n",
    "    sum2 = [i for i in range(1)]\n",
    "   \n",
    "    for i in range(len(b)):\n",
    "        sum += math.pow(a[i]-b[i], 2)   #suma de las diferencias al cuadrado\n",
    "\n",
    "    sum2[0] = math.sqrt(sum)            #raiz cuadrada de la sumatoria  \n",
    "    sum2.append(a[2])                   #Se agrega la clase del punto clasificado a la distancia \n",
    "    return sum2                         #Regresa una lista con la distancia entre el punto a y b y la clase del punto a \n"
   ]
  },
  {
   "cell_type": "code",
   "execution_count": 85,
   "metadata": {},
   "outputs": [],
   "source": [
    "#ORDENAR LAS DISTANCIAS\n",
    "\n",
    "def ordenar(distancias):\n",
    "    \n",
    "    n= len(distancias)-1\n",
    "\n",
    "    for i in range(len(distancias)-1):\n",
    "        for j in range(n):\n",
    "            if distancias[j] > distancias[j+1]:\n",
    "                a=distancias[j]\n",
    "                distancias[j]=distancias[j+1]\n",
    "                distancias[j+1]=a   \n",
    "            n-1\n",
    "\n"
   ]
  },
  {
   "cell_type": "code",
   "execution_count": 86,
   "metadata": {},
   "outputs": [],
   "source": [
    "#K VECINOS MAS CERCANOS\n",
    "\n",
    "def vecinosCercanos(k,d):\n",
    "    \n",
    "    cercanos=[i for i in range(k)] \n",
    "\n",
    "    for i in range(k):\n",
    "        cercanos[i] = d[i]\n",
    "    return cercanos    \n"
   ]
  },
  {
   "cell_type": "code",
   "execution_count": 87,
   "metadata": {},
   "outputs": [],
   "source": [
    "#DEFINIR CLASE\n",
    "#vec=[[2.23606797749979, 'azul'], [2.23606797749979, 'rojo'], [3.0, 'azul'], [4.0, 'verde'], [5.0, 'verde'], [6.0, 'verde']]\n",
    "\n",
    "\n",
    "def claseMay(vecinos):        #Se recibe una lista con las distancias y la clase de cada punto\n",
    "\n",
    "    clases=[i for i in vecinos]  \n",
    "\n",
    "    for i in range(len(vecinos)):\n",
    "        clases[i]= vecinos[i][-1]   #Se sacan las clases y se guardan en una lista\n",
    "    \n",
    "    clase=collections.Counter(clases).most_common() #Se cuentan las pcurrencias de las clases que hay en la lista \"clases\" ordenados de mayor a menor\n",
    "    \n",
    "    return clase[0][0]  #Regresa la clase que tiene más ocurrencias\n",
    "      \n",
    "\n",
    "#claseMay(vec)"
   ]
  },
  {
   "cell_type": "code",
   "execution_count": 88,
   "metadata": {},
   "outputs": [],
   "source": [
    "#KNN (SE LLAMA A LOS DEMAS METODOS)\n",
    "\n",
    "def knn(puntoNuevo, puntosExistentes):\n",
    "    d= [i for i in range(len(puntosExistentes))]\n",
    "    vc=[]\n",
    "    nuevo=[]\n",
    "    for i in range(len(puntoNuevo)):\n",
    "        for j in range(len(puntosExistentes)):\n",
    "            d[j]= euclidiana(puntosExistentes[j],puntoNuevo[i]) #Se saca la distancia euclidiana\n",
    "\n",
    "        ordenar(d) #Se ordena la lista de coordenadas    \n",
    "        \n",
    "        vc=vecinosCercanos(3,d) #Se sacan los k vecinos mas cercanos\n",
    "\n",
    "        clase = claseMay(vc)    #Se elige la clase a la que pertenece\n",
    "        \n",
    "       # Lo que hago aqui es que voy almacenando todas las nuevas clasificaciones,\n",
    "        # es decir, si tienes mas de 1 punto, retorno un lista con la clasificacion\n",
    "        # de todos los puntos nuevos.\n",
    "        nuevo.append(clase)\n",
    "\n",
    "    return nuevo\n"
   ]
  },
  {
   "cell_type": "code",
   "execution_count": 89,
   "metadata": {},
   "outputs": [],
   "source": [
    "#SE DA UN NUEVO PUNTO\n",
    "#s = [[3,7]] #azul\n",
    "#s = [[5,6]] #rojo\n",
    "#s = [[1,3]] #azul\n",
    "#s = [[3.5,4.5]] #rojo"
   ]
  },
  {
   "cell_type": "code",
   "execution_count": 90,
   "metadata": {},
   "outputs": [
    {
     "data": {
      "text/plain": [
       "Text(0, 0.5, 'Y')"
      ]
     },
     "execution_count": 90,
     "metadata": {},
     "output_type": "execute_result"
    },
    {
     "data": {
      "image/png": "[encoded data removed]",
      "text/plain": [
       "<Figure size 640x480 with 1 Axes>"
      ]
     },
     "metadata": {},
     "output_type": "display_data"
    }
   ],
   "source": [
    "#GRAFICA CON EL PUNTO NUEVO (SIN CLASIFICAR)\n",
    "\n",
    "xc=[i for i in range(len(c))]\n",
    "yc=[i for i in range(len(c))]\n",
    "cc=[i for i in range(len(c))]\n",
    "xs=[]\n",
    "ys=[]\n",
    "\n",
    "\n",
    "\n",
    "#Sacar coordenadas x y y de los puntos clasificados y ponerlas en listas respectivamente\n",
    "for i in range(len(c)):\n",
    "    xc[i]=c[i][0]\n",
    "    yc[i]=c[i][1]\n",
    "\n",
    "for i in range(len(c)):\n",
    "    cc[i]=c[i][2]\n",
    "    \n",
    "\n",
    "#Sacar coordenadas x y y del nuevo punto (sin clasificar)\n",
    "xs=[s[0][0]]\n",
    "ys=[s[0][1]]\n",
    "\n",
    "\n",
    "#Crear diccionario de colores\n",
    "colores = {\"azul\": \"blue\", \"rojo\": \"red\"}\n",
    "colores2 = df.Clase.map(colores)\n",
    "\n",
    "\n",
    "#Grafica\n",
    "plt.scatter(x= xc,y = yc, color= colores2)\n",
    "plt.scatter(x= xs,y = ys, color= \"black\")\n",
    "plt.xlabel(\"X\")\n",
    "plt.ylabel(\"Y\")\n",
    "#fig, ax = plt.subplots()\n",
    "#ax.scatter(x = xc,y = yc, c = color)\n",
    "\n"
   ]
  },
  {
   "cell_type": "code",
   "execution_count": 91,
   "metadata": {},
   "outputs": [
    {
     "data": {
      "text/plain": [
       "'rojo'"
      ]
     },
     "execution_count": 91,
     "metadata": {},
     "output_type": "execute_result"
    }
   ],
   "source": [
    "#SE LLAMA AL KNN PARA ENCONTRAR LA CLASE A LA QUE PERTENECE EL NUEVO PUNTO\n",
    "\n",
    "knn(s,c)"
   ]
  }
 ],
 "metadata": {
  "kernelspec": {
   "display_name": "Python 3",
   "language": "python",
   "name": "python3"
  },
  "language_info": {
   "codemirror_mode": {
    "name": "ipython",
    "version": 3
   },
   "file_extension": ".py",
   "mimetype": "text/x-python",
   "name": "python",
   "nbconvert_exporter": "python",
   "pygments_lexer": "ipython3",
   "version": "3.11.2"
  },
  "orig_nbformat": 4,
  "vscode": {
   "interpreter": {
    "hash": "c261aea317cc0286b3b3261fbba9abdec21eaa57589985bb7a274bf54d6cc0a7"
   }
  }
 },
 "nbformat": 4,
 "nbformat_minor": 2
}
